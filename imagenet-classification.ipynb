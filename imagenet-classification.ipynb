{
 "cells": [
  {
   "cell_type": "code",
   "execution_count": null,
   "metadata": {},
   "outputs": [],
   "source": [
    "# download imageNet class label\n",
    "!wget https://s3.amazonaws.com/deep-learning-models/image-models/imagenet_class_index.json"
   ]
  },
  {
   "cell_type": "code",
   "execution_count": null,
   "metadata": {},
   "outputs": [],
   "source": [
    "import json\n",
    "\n",
    "from PIL import Image\n",
    "import torch\n",
    "from torch.nn import functional as F\n",
    "from torchvision import models, transforms"
   ]
  },
  {
   "cell_type": "code",
   "execution_count": null,
   "metadata": {},
   "outputs": [],
   "source": [
    "# prepare label name\n",
    "with open(\"imagenet_class_index.json\") as f:\n",
    "    class_idx = json.load(f)\n",
    "    # 0 -> 'tench'\n",
    "    idx2label = [class_idx[str(k)][1] for k in range(len(class_idx))]\n",
    "    # 'n01440764' -> 'tench\n",
    "    cls2label = {class_idx[str(k)][0]: class_idx[str(k)][1] for k in range(len(class_idx))}\n",
    "    # 0 -> 'n01440764'\n",
    "    idx2cls = [class_idx[str(k)][0] for k in range(len(class_idx))]\n",
    "\n",
    "# prepare model\n",
    "model = models.resnet50(pretrained=True)\n",
    "model = model.eval()\n",
    "\n",
    "# prepare transform\n",
    "transform_i = transforms.Compose([\n",
    "    transforms.Resize(256),\n",
    "    transforms.CenterCrop(224)\n",
    "])\n",
    "transform_t = transforms.Compose([\n",
    "    transforms.ToTensor(),\n",
    "    transforms.Normalize(mean=[0.485, 0.456, 0.406],\n",
    "                         std=[0.229, 0.224, 0.225])\n",
    "])"
   ]
  },
  {
   "cell_type": "code",
   "execution_count": null,
   "metadata": {},
   "outputs": [],
   "source": [
    "def predict(path):\n",
    "    img = Image.open(path)\n",
    "    img = transform_i(img)\n",
    "    img_t = transform_t(img)\n",
    "\n",
    "    with torch.no_grad():\n",
    "        prob = F.softmax(model(img_t[None]), dim=1)[0]\n",
    "\n",
    "    idx = prob.argmax().item()\n",
    "    print('label \"{}\", class \"{}\"'.format(idx2label[idx], idx2cls[idx]))\n",
    "    print('confidence {:.3f}'.format(prob[idx].item()))\n",
    "    return img"
   ]
  },
  {
   "cell_type": "code",
   "execution_count": null,
   "metadata": {},
   "outputs": [],
   "source": [
    "path = '/path/to/image'\n",
    "predict(path)"
   ]
  },
  {
   "cell_type": "markdown",
   "metadata": {},
   "source": [
    "References\n",
    "* https://discuss.pytorch.org/t/imagenet-classes/4923"
   ]
  }
 ],
 "metadata": {
  "kernelspec": {
   "display_name": "Python 3.7.3 64-bit ('base': conda)",
   "language": "python",
   "name": "python37364bitbasecondab02068f7b1774b2187a6d572929b7325"
  },
  "language_info": {
   "codemirror_mode": {
    "name": "ipython",
    "version": 3
   },
   "file_extension": ".py",
   "mimetype": "text/x-python",
   "name": "python",
   "nbconvert_exporter": "python",
   "pygments_lexer": "ipython3",
   "version": "3.7.3"
  }
 },
 "nbformat": 4,
 "nbformat_minor": 2
}
